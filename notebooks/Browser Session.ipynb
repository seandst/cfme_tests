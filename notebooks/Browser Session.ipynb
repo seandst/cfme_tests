{
 "metadata": {
  "name": ""
 },
 "nbformat": 3,
 "nbformat_minor": 0,
 "worksheets": [
  {
   "cells": [
    {
     "cell_type": "markdown",
     "metadata": {},
     "source": [
      "**Don't forget to make a copy before starting**\n",
      "\n",
      "Start up the browser session, and log in."
     ]
    },
    {
     "cell_type": "code",
     "collapsed": false,
     "input": [
      "from fixtures import navigation as nav\n",
      "from utils.browser import start, testsetup\n",
      "browser = start()\n",
      "dashboard_page = nav.home_page_logged_in(testsetup)"
     ],
     "language": "python",
     "metadata": {},
     "outputs": [],
     "prompt_number": 1
    },
    {
     "cell_type": "markdown",
     "metadata": {},
     "source": [
      "Now, work with `browser`, `nav`, etc. to hack on CFME, interactively.\n",
      "\n",
      "Remember to call `browser.quit()` when done."
     ]
    },
    {
     "cell_type": "code",
     "collapsed": false,
     "input": [],
     "language": "python",
     "metadata": {},
     "outputs": [],
     "prompt_number": 2
    }
   ],
   "metadata": {}
  }
 ]
}
