{
 "metadata": {
  "name": ""
 },
 "nbformat": 3,
 "nbformat_minor": 0,
 "worksheets": [
  {
   "cells": [
    {
     "cell_type": "markdown",
     "metadata": {},
     "source": [
      "Introduction\n",
      "============\n",
      "\n",
      "We've encountered restrictions from using mozwebqa for a fair amount of time now, mostly related to mozwebqa being a session-scoped fixture, and its existence relying on being inside the py.test environment. As a result, the desire to remove mozwebqa has inspired some fundamental changes in our project design:\n",
      "\n",
      "- Configuration files should all be usable outside of py.test/mozwebqa\n",
      "- Configuration files should be easily overrideable with custom properties that aren't in revision control\n",
      "- The browser session, page objects, and all related page actions should be usable outside of the test runner in an interactive shell (like this notebook!)\n",
      "- The browser session should be widely-scoped. Currently it's module scoped, but the ease of starting and stopping a browser session allow for any reasonable usage\n",
      "\n",
      "With the removal of mozwebqa, all the above goals are met. The following sections detail specific changes and how to work with them.\n",
      "\n",
      "tl;dr\n",
      "-----\n",
      "tl;dr means \"Too long; didn't read.\"\n",
      "\n",
      "In these section you'll find the short, short version of how to work with the changes for that specific section."
     ]
    },
    {
     "cell_type": "markdown",
     "metadata": {},
     "source": [
      "Configuration Files\n",
      "===================\n",
      "\n",
      "Configuration yamls all live in `cfme_tests/conf`. They are expected to have the `.yaml` extension, are are exposed as python objects according to their file name. The `utils.conf` module has been infused with a `dict` identity, allowing for reloading of config files in an interactive session (please don't do this in the automated test suite). For example, `cfme_tests/conf/cfme_data.yaml` is exposed as a python data structure named `cfme_data` in the `utils.conf` module.\n",
      "\n",
      "Thus, for your environment to work with the new config layout, all config yamls need to be moved into the conf directory.\n",
      "\n",
      "- `mv cfme_tests/cfme_data.yaml cfme_tests/conf/`\n",
      "- `mv cfme_tests/credentials.yaml cfme_tests/conf/`\n",
      "\n",
      "Alternatively, creating symlinks in the conf directory to the private QE yamls and using local overrides is probably the best option (more on local overrides in the next section).\n",
      "\n",
      "Additionally, a new config file has appeared to handle to configuration of the test environment itself (for example, what browser to run, what the base URL is, etc). This is `cfme_tests/conf/env.yaml`. You can either use the existing `env.yaml` template in the `conf` directory, or use the one in the private QE yamls repository with a local override.\n",
      "\n",
      "Finally, there is no whitelist in `utils.conf`, all files in `cfme_tests/conf` that have a `.yaml` extension and a valid python identifier as their name are automatically available as attributes of the conf module. The workflow for creating a new conf file that can be accessed as an attribute of `utils.conf` (aside from the requisite design discussions) is \"put the new conf file in `cfme_tests/conf` and then use it.\"\n",
      "\n",
      "Local Configuration Override Files\n",
      "----------------------------------\n",
      "\n",
      "When loading configuration files, the `conf` module also looks for local override files, named with the `.local.yaml` extension, and grafts those local overrides onto the 'official' yamls. The simplest example of the usefulness of a local override file would be for setting the `base_url` in `env.yaml`.\n",
      "\n",
      "To do so, in `cfme_tests/conf`, copy `env.yaml.template` to `env.yaml`, or get the latest `env.yaml` from the private QE yamls repository. \n",
      "\n",
      "Then, create the local override file, `cfme_tests/conf/env.local.yaml`. Inside this file, override the defaults with your own settings:\n",
      "\n",
      "*env.local.yaml*\n",
      "```yaml\n",
      "base_url: https://1.2.3.4/\n",
      "```\n",
      "\n",
      "Checking the existence of local override files is part of the config loading mechnanism for all files, so you can also have `cfme_data.local.yaml`, `credentials.local.yaml`, etc.\n",
      "\n",
      "Note that the mechanism that powers the local override functionality is dict's `update` method. It is not very smart, and will likely not do exactly what you want in certain cases. There are examples of this below that illustrate what you can expect.\n",
      "\n",
      "tl;dr\n",
      "-----\n",
      "\n",
      "Move `cfme_data.yaml` and `credentials.yaml` into `cfme_tests/conf`, copy `env.yaml.template` to `env.yaml` and update the base_url inside it appropriately.\n",
      "\n",
      "**-or-**\n",
      "\n",
      "Throw away your existing yamls and start fresh with the ones from the private QE yamls repository, using local overrides as necessary (like for `env['base_url']`)\n",
      "\n",
      "**-or**\n",
      "\n",
      "Some combination of the previous options"
     ]
    },
    {
     "cell_type": "markdown",
     "metadata": {},
     "source": [
      "Configuration Usage Examples\n",
      "----------------------------\n",
      "\n",
      "*The following examples assume you've set up the `conf/` dir as instructed above.*"
     ]
    },
    {
     "cell_type": "code",
     "collapsed": false,
     "input": [
      "# Assumes you've got cfme_data, credentials, and env yamls in cfme_data/conf\n",
      "from utils import conf"
     ],
     "language": "python",
     "metadata": {},
     "outputs": [],
     "prompt_number": 103
    },
    {
     "cell_type": "code",
     "collapsed": false,
     "input": [
      "# Yaml files are automatically exposed as attributes of conf\n",
      "assert conf.cfme_data\n",
      "assert conf.env"
     ],
     "language": "python",
     "metadata": {},
     "outputs": [],
     "prompt_number": 104
    },
    {
     "cell_type": "code",
     "collapsed": false,
     "input": [
      "# Additionally, the configs themselves are importable names\n",
      "from utils.conf import cfme_data\n",
      "assert cfme_data"
     ],
     "language": "python",
     "metadata": {},
     "outputs": [],
     "prompt_number": 105
    },
    {
     "cell_type": "code",
     "collapsed": false,
     "input": [
      "# Files that don't exist will fail in reasonable ways\n",
      "try:\n",
      "    from utils.conf import gabbagabbahey\n",
      "except Exception as ex:\n",
      "    print type(ex)"
     ],
     "language": "python",
     "metadata": {},
     "outputs": [
      {
       "output_type": "stream",
       "stream": "stdout",
       "text": [
        "<class 'utils.conf_loader.ConfigNotFoundException'>\n"
       ]
      }
     ],
     "prompt_number": 106
    },
    {
     "cell_type": "code",
     "collapsed": true,
     "input": [
      "# utils.conf_loader.ConfigNotFoundException is exposed on the conf module for ease of use\n",
      "try:\n",
      "    conf.gabbagabbahey\n",
      "except conf.NotFoundException:\n",
      "    print 'Pinhead!'"
     ],
     "language": "python",
     "metadata": {},
     "outputs": [
      {
       "output_type": "stream",
       "stream": "stdout",
       "text": [
        "Pinhead!\n"
       ]
      }
     ],
     "prompt_number": 107
    },
    {
     "cell_type": "code",
     "collapsed": false,
     "input": [
      "# You can delete any or all of the loaded yaml data\n",
      "# It will be reloaded from disk when accessed if it hasn't already been loader\n",
      "# or if it's been removed from conf. This is where the dict aspects of conf\n",
      "# come into play.\n",
      "\n",
      "# For example, this won't work:\n",
      "try:\n",
      "    del(conf.cfme_data)\n",
      "except AttributeError:\n",
      "    pass"
     ],
     "language": "python",
     "metadata": {},
     "outputs": [],
     "prompt_number": 108
    },
    {
     "cell_type": "code",
     "collapsed": false,
     "input": [
      "# So, for \"advanced\" usage of conf, treat it like a dict.\n",
      "del(conf['cfme_data'])\n",
      "# cfme_data unloaded from cache, reload it:\n",
      "assert conf['cfme_data']"
     ],
     "language": "python",
     "metadata": {},
     "outputs": [],
     "prompt_number": 109
    },
    {
     "cell_type": "code",
     "collapsed": false,
     "input": [
      "# But really, the conf names are intended to be accessed as attributes, not mapping keys,\n",
      "# to help clarify the distinction between a config file name and the config data\n",
      "del(conf['cfme_data'])\n",
      "assert conf.cfme_data"
     ],
     "language": "python",
     "metadata": {},
     "outputs": [],
     "prompt_number": 110
    },
    {
     "cell_type": "code",
     "collapsed": false,
     "input": [
      "# And finally, you can just blow away the entire conf cache in one shot\n",
      "# (pretty much only useful for conf unittests...)\n",
      "conf.clear()\n",
      "assert conf.cfme_data"
     ],
     "language": "python",
     "metadata": {},
     "outputs": [],
     "prompt_number": 111
    },
    {
     "cell_type": "markdown",
     "metadata": {},
     "source": [
      "Configuration Local Override Examples\n",
      "-------------------------------------\n",
      "\n",
      "For these examples, the files `conf/gabbagabbahey.yaml` and `conf/gabbagabbahey.local.yaml` will be created/destroyed.\n",
      "\n",
      "I extend my apologies and extreme disbelief if this causes you grief."
     ]
    },
    {
     "cell_type": "code",
     "collapsed": false,
     "input": [
      "# Some utility stuff to make the following examples readable...\n",
      "from contextlib import contextmanager\n",
      "from tempfile import NamedTemporaryFile\n",
      "\n",
      "from yaml import dump\n",
      "\n",
      "from utils import conf\n",
      "\n",
      "\n",
      "@contextmanager\n",
      "def gabbagabbahey(defaults, overrides):\n",
      "    # given a dict of defaults and a dict of overrides, write out\n",
      "    # the corresponding gabbagabbahey.yaml and gabbagabbahey.local.yaml\n",
      "    \n",
      "    # Quick sanity check to make sure we're in the notebooks dir before writing files\n",
      "    import os; assert os.getcwd().endswith('cfme_tests/notebooks')\n",
      "    with open('../conf/gabbagabbahey.yaml', 'w') as gghconf:\n",
      "        dump(defaults, gghconf)\n",
      "    with open('../conf/gabbagabbahey.local.yaml', 'w') as gghlconf:\n",
      "        dump(overrides, gghlconf)\n",
      "    conf.clear()\n",
      "    yield\n",
      "    os.remove(gghconf.name)\n",
      "    os.remove(gghlconf.name)"
     ],
     "language": "python",
     "metadata": {},
     "outputs": [],
     "prompt_number": 112
    },
    {
     "cell_type": "code",
     "collapsed": false,
     "input": [
      "# A simple example of the local overrides in action\n",
      "defaults = {\n",
      "    'key1': 'some value',\n",
      "    'key2': 'some other value'\n",
      "}\n",
      "\n",
      "overrides = {\n",
      "    'key1': 'overridden value'\n",
      "}\n",
      "\n",
      "with gabbagabbahey(defaults, overrides):\n",
      "    assert conf.gabbagabbahey['key1'] == overrides['key1']\n",
      "    assert conf.gabbagabbahey['key2'] == defaults['key2']"
     ],
     "language": "python",
     "metadata": {},
     "outputs": [],
     "prompt_number": 113
    },
    {
     "cell_type": "code",
     "collapsed": false,
     "input": [
      "# But what about nested data?\n",
      "# This is the case where local overrides might not work exactly how you want them to.\n",
      "defaults = {\n",
      "    'nested': {\n",
      "        'key1': 'some value',\n",
      "        'key2': 'some other value'\n",
      "    }\n",
      "}\n",
      "\n",
      "overrides = {\n",
      "    'nested': {\n",
      "        'key1': 'overridden value'\n",
      "    }\n",
      "}\n",
      "\n",
      "with gabbagabbahey(defaults, overrides):\n",
      "    # This will work\n",
      "    assert conf.gabbagabbahey['nested']['key1'] == overrides['nested']['key1']\n",
      "\n",
      "    # But this will fail?\n",
      "    try:\n",
      "        assert conf.gabbagabbahey['nested']['key2'] == defaults['nested']['key2']\n",
      "    except KeyError:\n",
      "        print conf.gabbagabbahey"
     ],
     "language": "python",
     "metadata": {},
     "outputs": [
      {
       "output_type": "stream",
       "stream": "stdout",
       "text": [
        "{'nested': {'key1': 'overridden value'}}\n"
       ]
      }
     ],
     "prompt_number": 114
    },
    {
     "cell_type": "markdown",
     "metadata": {},
     "source": [
      "*Where did `conf.gabbagabbahey['nested']['key2']` go?*\n",
      "\n",
      "The `dict.update` method is effectively the same as the following function:\n",
      "```python\n",
      "def update(self, updates_dict):\n",
      "    \"\"\"Update this dict's contents with the contents of updates_dict\"\"\"\n",
      "    for key, value in updates_dict.items():\n",
      "        self[key] = value\n",
      "```\n",
      "\n",
      "The key point to know is that update only operates on the top level of keys in a dictionary. So, in the example above, the value of 'nested' is  completely overwritten by the value of 'nested' in the local override config.\n",
      "\n",
      "Please keep this behavior in mind when adding values to config files that you expect to be overriden in the common case (like `conf.env['base_url']`)"
     ]
    },
    {
     "cell_type": "markdown",
     "metadata": {},
     "source": [
      "Interactive Browser Sessions\n",
      "============================\n",
      "\n",
      "With all of the config files being wrangled into the conf module, it becomes extremely easy to configure and launch a browser on a whim. By default (defined in `conf/env.yaml`, the chrome browser is used. If you haven't set up chromedriver, now's a good time to do that. Unfortunately, this system is chrome-only for the moment. Better firefox support is coming very soon.\n",
      "\n",
      "Here's what it looks like once all the yamls are in place:"
     ]
    },
    {
     "cell_type": "code",
     "collapsed": false,
     "input": [
      "from utils import conf; conf.clear()\n",
      "from utils.browser import start\n",
      "# Start chrome, using the settings from yaml files\n",
      "browser = start()"
     ],
     "language": "python",
     "metadata": {},
     "outputs": [],
     "prompt_number": 115
    },
    {
     "cell_type": "code",
     "collapsed": false,
     "input": [
      "# You can close the browser when done\n",
      "browser.quit()"
     ],
     "language": "python",
     "metadata": {},
     "outputs": [],
     "prompt_number": 116
    },
    {
     "cell_type": "markdown",
     "metadata": {},
     "source": [
      "tl;dr\n",
      "-----"
     ]
    },
    {
     "cell_type": "code",
     "collapsed": false,
     "input": [
      "# Actually do interactive stuff, but only in chrome for now\n",
      "from fixtures import navigation as nav\n",
      "from utils.browser import testsetup\n",
      "# Note that you can restart a previously closed browser within an interactive session\n",
      "browser = start()\n",
      "dashboard_page = nav.home_page_logged_in(testsetup)\n",
      "about_page = nav.cnf_about_pg(dashboard_page)\n",
      "version = about_page.key_search('Version')\n",
      "print version\n",
      "assert version.startswith('5.2')\n",
      "browser.quit()"
     ],
     "language": "python",
     "metadata": {},
     "outputs": [
      {
       "output_type": "stream",
       "stream": "stdout",
       "text": [
        "5.2.1.3.20131122113114_4ff3eb5\n"
       ]
      }
     ],
     "prompt_number": 118
    },
    {
     "cell_type": "markdown",
     "metadata": {},
     "source": [
      "duckwebqa\n",
      "=========\n",
      "\n",
      "The `duckwebqa` name is a *terrible joke*. duckwebqa quacks like a mozwebqa duck in a \"duck-typing\" sense, but it is not intended to completely replace all of the functionality provided by mozwebqa py.test plugin. Rather, it is solely interested in acting like a good imposter for the mozwebqa fixture in our tests. Wherever tests would have used mozwebqa, they should now look to duckwebqa, because mozwebqa is no longer in the requirements file and can be uninstalled. If desired, it's perfectly reasonable to disavow any and all knowledge of duckwebqa based on reasons below.\n",
      "\n",
      "- All existing tests have already been converted to use duckwebqa, including the existing navigation fixtures. Before, it was inappropriate for tests to be interacting with mozwebqa directly; the same applies to duckwebqa.\n",
      "- Infrastructure is currently being built to make navigating around the UI an explicit task. The practice of having page methods return pages of unknown type (unknown until you trace back all the method calls, at least) will be replaced with named page objects of a known type. This method of development will eventually render duckwebqa obsolete, at which point duckwebqa will be discarded.\n",
      "\n",
      "tl;dr\n",
      "-----\n",
      "\n",
      "duckwebqa is a silly transitional standin for mozwebqa, and can probably be ignored."
     ]
    }
   ],
   "metadata": {}
  }
 ]
}